{
  "nbformat": 4,
  "nbformat_minor": 0,
  "metadata": {
    "colab": {
      "provenance": [],
      "gpuType": "T4"
    },
    "kernelspec": {
      "name": "python3",
      "display_name": "Python 3"
    },
    "language_info": {
      "name": "python"
    },
    "accelerator": "GPU"
  },
  "cells": [
    {
      "cell_type": "code",
      "execution_count": 2,
      "metadata": {
        "colab": {
          "base_uri": "https://localhost:8080/"
        },
        "id": "T2XuTOmIXkUf",
        "outputId": "1ba79776-88b2-4eca-d382-8f021976ad32"
      },
      "outputs": [
        {
          "output_type": "stream",
          "name": "stdout",
          "text": [
            "✅ Data loaded: 1470 rows, 35 columns\n"
          ]
        }
      ],
      "source": [
        "import pandas as pd\n",
        "import numpy as np\n",
        "from sklearn.preprocessing import LabelEncoder, OneHotEncoder, StandardScaler\n",
        "from sklearn.model_selection import train_test_split\n",
        "from imblearn.over_sampling import SMOTE\n",
        "import seaborn as sns\n",
        "import matplotlib.pyplot as plt\n",
        "\n",
        "# Load the dataset\n",
        "url = \"https://raw.githubusercontent.com/sairaawahid/Employee-Attrition-Predictor-for-HR-Analytics/refs/heads/main/data/WA_Fn-UseC_-HR-Employee-Attrition.csv?token=GHSAT0AAAAAADFFG756W52DH3HXL6EW6DZ42CCVOXA\"\n",
        "df = pd.read_csv(url)\n",
        "\n",
        "print(f\"✅ Data loaded: {df.shape[0]} rows, {df.shape[1]} columns\")\n"
      ]
    },
    {
      "cell_type": "code",
      "source": [
        "print(\"\\n🧼 Missing Values:\\n\", df.isnull().sum())"
      ],
      "metadata": {
        "colab": {
          "base_uri": "https://localhost:8080/"
        },
        "id": "LYTLPUi6bigm",
        "outputId": "d0441d18-20b5-4784-c8dd-94e882485da8"
      },
      "execution_count": 3,
      "outputs": [
        {
          "output_type": "stream",
          "name": "stdout",
          "text": [
            "\n",
            "🧼 Missing Values:\n",
            " Age                         0\n",
            "Attrition                   0\n",
            "BusinessTravel              0\n",
            "DailyRate                   0\n",
            "Department                  0\n",
            "DistanceFromHome            0\n",
            "Education                   0\n",
            "EducationField              0\n",
            "EmployeeCount               0\n",
            "EmployeeNumber              0\n",
            "EnvironmentSatisfaction     0\n",
            "Gender                      0\n",
            "HourlyRate                  0\n",
            "JobInvolvement              0\n",
            "JobLevel                    0\n",
            "JobRole                     0\n",
            "JobSatisfaction             0\n",
            "MaritalStatus               0\n",
            "MonthlyIncome               0\n",
            "MonthlyRate                 0\n",
            "NumCompaniesWorked          0\n",
            "Over18                      0\n",
            "OverTime                    0\n",
            "PercentSalaryHike           0\n",
            "PerformanceRating           0\n",
            "RelationshipSatisfaction    0\n",
            "StandardHours               0\n",
            "StockOptionLevel            0\n",
            "TotalWorkingYears           0\n",
            "TrainingTimesLastYear       0\n",
            "WorkLifeBalance             0\n",
            "YearsAtCompany              0\n",
            "YearsInCurrentRole          0\n",
            "YearsSinceLastPromotion     0\n",
            "YearsWithCurrManager        0\n",
            "dtype: int64\n"
          ]
        }
      ]
    },
    {
      "cell_type": "code",
      "source": [
        "# Copy original dataset\n",
        "df_processed = df.copy()\n",
        "\n",
        "# Drop columns that may be IDs or have high correlation with target (optional)\n",
        "df_processed.drop(columns=['EmployeeNumber', 'Over18', 'EmployeeCount', 'StandardHours'], inplace=True)\n",
        "\n",
        "# Label encode target variable\n",
        "df_processed['Attrition'] = df_processed['Attrition'].map({'Yes': 1, 'No': 0})\n",
        "\n",
        "# Identify categorical columns\n",
        "categorical_cols = df_processed.select_dtypes(include='object').columns\n",
        "print(\"🔤 Categorical columns:\\n\", categorical_cols)\n",
        "\n",
        "# One-hot encode all remaining categoricals\n",
        "df_processed = pd.get_dummies(df_processed, drop_first=True)\n",
        "\n",
        "print(\"✅ Data after encoding:\", df_processed.shape)\n"
      ],
      "metadata": {
        "colab": {
          "base_uri": "https://localhost:8080/"
        },
        "id": "QaHRmsdtbsFM",
        "outputId": "cc1a4de1-d400-42aa-9eba-c7c78d6105b3"
      },
      "execution_count": 4,
      "outputs": [
        {
          "output_type": "stream",
          "name": "stdout",
          "text": [
            "🔤 Categorical columns:\n",
            " Index(['BusinessTravel', 'Department', 'EducationField', 'Gender', 'JobRole',\n",
            "       'MaritalStatus', 'OverTime'],\n",
            "      dtype='object')\n",
            "✅ Data after encoding: (1470, 45)\n"
          ]
        }
      ]
    },
    {
      "cell_type": "code",
      "source": [
        "# Identify numeric features\n",
        "numeric_cols = df_processed.select_dtypes(include=['int64', 'float64']).columns\n",
        "numeric_cols = [col for col in numeric_cols if col != 'Attrition']  # exclude target\n",
        "\n",
        "scaler = StandardScaler()\n",
        "df_processed[numeric_cols] = scaler.fit_transform(df_processed[numeric_cols])\n",
        "\n",
        "print(\"✅ Numerical features scaled.\")\n"
      ],
      "metadata": {
        "colab": {
          "base_uri": "https://localhost:8080/"
        },
        "id": "jtwsgde1b14N",
        "outputId": "4aec1bf5-147b-4a88-94f7-f159b80990b8"
      },
      "execution_count": 5,
      "outputs": [
        {
          "output_type": "stream",
          "name": "stdout",
          "text": [
            "✅ Numerical features scaled.\n"
          ]
        }
      ]
    },
    {
      "cell_type": "code",
      "source": [
        "# Split features and target\n",
        "X = df_processed.drop('Attrition', axis=1)\n",
        "y = df_processed['Attrition']\n",
        "\n",
        "# 80-20 split\n",
        "X_train, X_test, y_train, y_test = train_test_split(X, y, test_size=0.2, stratify=y, random_state=42)\n",
        "\n",
        "print(f\"✅ Train shape: {X_train.shape}, Test shape: {X_test.shape}\")\n"
      ],
      "metadata": {
        "colab": {
          "base_uri": "https://localhost:8080/"
        },
        "id": "CJV--PCIb5TU",
        "outputId": "bd0b8c2a-a463-49a5-ffc1-48757fef2068"
      },
      "execution_count": 6,
      "outputs": [
        {
          "output_type": "stream",
          "name": "stdout",
          "text": [
            "✅ Train shape: (1176, 44), Test shape: (294, 44)\n"
          ]
        }
      ]
    },
    {
      "cell_type": "code",
      "source": [
        "# Check class distribution\n",
        "print(\"Before SMOTE:\")\n",
        "print(y_train.value_counts(normalize=True))\n",
        "\n",
        "# Apply SMOTE\n",
        "sm = SMOTE(random_state=42)\n",
        "X_train_res, y_train_res = sm.fit_resample(X_train, y_train)\n",
        "\n",
        "print(\"After SMOTE:\")\n",
        "print(pd.Series(y_train_res).value_counts(normalize=True))\n"
      ],
      "metadata": {
        "colab": {
          "base_uri": "https://localhost:8080/"
        },
        "id": "aYriQi5db9P1",
        "outputId": "e1bb4141-22e0-4a83-eff8-edcbfecc3914"
      },
      "execution_count": 7,
      "outputs": [
        {
          "output_type": "stream",
          "name": "stdout",
          "text": [
            "Before SMOTE:\n",
            "Attrition\n",
            "0    0.838435\n",
            "1    0.161565\n",
            "Name: proportion, dtype: float64\n",
            "After SMOTE:\n",
            "Attrition\n",
            "0    0.5\n",
            "1    0.5\n",
            "Name: proportion, dtype: float64\n"
          ]
        }
      ]
    },
    {
      "cell_type": "code",
      "source": [
        "# Save processed data\n",
        "X_train_res.to_csv('X_train.csv', index=False)\n",
        "X_test.to_csv('X_test.csv', index=False)\n",
        "y_train_res.to_csv('y_train.csv', index=False)\n",
        "y_test.to_csv('y_test.csv', index=False)\n",
        "\n",
        "print(\"✅ Preprocessed datasets saved.\")\n"
      ],
      "metadata": {
        "colab": {
          "base_uri": "https://localhost:8080/"
        },
        "id": "0s6FEZlFcLaV",
        "outputId": "2695d204-dd74-4d45-855d-83d29a577ac5"
      },
      "execution_count": 8,
      "outputs": [
        {
          "output_type": "stream",
          "name": "stdout",
          "text": [
            "✅ Preprocessed datasets saved.\n"
          ]
        }
      ]
    }
  ]
}